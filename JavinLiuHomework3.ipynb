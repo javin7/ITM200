{
 "cells": [
  {
   "cell_type": "code",
   "execution_count": null,
   "id": "2eb0dc18-ac2e-40fa-9206-0d5602f4949c",
   "metadata": {},
   "outputs": [],
   "source": [
    "#Javin Liu\n",
    "#501250121"
   ]
  },
  {
   "cell_type": "code",
   "execution_count": 4,
   "id": "9ea3804f-35af-42a3-9801-96eaab9356dc",
   "metadata": {},
   "outputs": [
    {
     "name": "stdin",
     "output_type": "stream",
     "text": [
      "Enter a number:  11\n"
     ]
    },
    {
     "name": "stdout",
     "output_type": "stream",
     "text": [
      "Greater than 10\n"
     ]
    }
   ],
   "source": [
    "num = int(input(\"Enter a number: \"))\n",
    "if (num > 10):\n",
    "    print(\"Greater than 10\")\n",
    "else:\n",
    "    print(\"10 or less\")"
   ]
  },
  {
   "cell_type": "code",
   "execution_count": 8,
   "id": "9e84249e-8e7f-401f-bf01-480d8b1926d4",
   "metadata": {},
   "outputs": [
    {
     "name": "stdin",
     "output_type": "stream",
     "text": [
      "Enter a number:  -1\n"
     ]
    },
    {
     "name": "stdout",
     "output_type": "stream",
     "text": [
      "Negative\n"
     ]
    }
   ],
   "source": [
    "num1 = int(input(\"Enter a number: \"))\n",
    "if (num1 > 0):\n",
    "    print(\"Positive\")\n",
    "elif (num1 < 0):\n",
    "    print(\"Negative\")\n",
    "else:\n",
    "    print(\"Zero\")"
   ]
  },
  {
   "cell_type": "code",
   "execution_count": 15,
   "id": "2e73a095-664c-43b2-b590-9f06a04ab5a2",
   "metadata": {},
   "outputs": [
    {
     "name": "stdin",
     "output_type": "stream",
     "text": [
      "Enter a number:  -10\n"
     ]
    },
    {
     "name": "stdout",
     "output_type": "stream",
     "text": [
      "Out of range\n"
     ]
    }
   ],
   "source": [
    "num2 = int(input(\"Enter a number: \"))\n",
    "if (1 <= num2 <= 10):\n",
    "    if (num2 % 2 == 0):\n",
    "        print(\"Even\")\n",
    "    else:\n",
    "        print(\"Odd\")\n",
    "else:\n",
    "    print(\"Out of range\")"
   ]
  },
  {
   "cell_type": "code",
   "execution_count": 35,
   "id": "fa58a5a7-0946-4e27-a424-4da499052101",
   "metadata": {},
   "outputs": [
    {
     "name": "stdin",
     "output_type": "stream",
     "text": [
      "Enter a year:  2000\n"
     ]
    },
    {
     "name": "stdout",
     "output_type": "stream",
     "text": [
      "True\n"
     ]
    }
   ],
   "source": [
    "year = int(input(\"Enter a year: \"))\n",
    "print(bool(year % 4 == 0 and year % 100 != 0 or (year % 100 == 0 and year % 400 == 0)))"
   ]
  },
  {
   "cell_type": "code",
   "execution_count": 38,
   "id": "8dd6ea38-15c0-4e80-a482-9f42afee3676",
   "metadata": {},
   "outputs": [
    {
     "name": "stdin",
     "output_type": "stream",
     "text": [
      "Enter a temperature 101\n"
     ]
    },
    {
     "name": "stdout",
     "output_type": "stream",
     "text": [
      "Warning: High temperature!\n"
     ]
    }
   ],
   "source": [
    "temperature = float(input(\"Enter a temperature\"))\n",
    "if (temperature > 100):\n",
    "    print(\"Warning: High temperature!\")\n",
    "elif(temperature < 0):\n",
    "    print(\"Warning: Freezing temperature!\")"
   ]
  },
  {
   "cell_type": "code",
   "execution_count": 42,
   "id": "fe008052-993b-4845-833f-5a85389fbda0",
   "metadata": {},
   "outputs": [
    {
     "name": "stdin",
     "output_type": "stream",
     "text": [
      " basd\n",
      " BaSd\n"
     ]
    },
    {
     "name": "stdout",
     "output_type": "stream",
     "text": [
      "Strings are different\n"
     ]
    }
   ],
   "source": [
    "str1 = input()\n",
    "str2 = input()\n",
    "if (str1 == str2):\n",
    "    print(\"Strings are identical\")\n",
    "else:\n",
    "    print(\"Strings are different\")"
   ]
  },
  {
   "cell_type": "code",
   "execution_count": 70,
   "id": "d544a21b-1e17-4c65-8b0d-efa2d53bfb7e",
   "metadata": {},
   "outputs": [
    {
     "name": "stdin",
     "output_type": "stream",
     "text": [
      " 5\n",
      " 6.0001\n",
      " 4\n"
     ]
    },
    {
     "name": "stdout",
     "output_type": "stream",
     "text": [
      "The numbers are effectively equal\n"
     ]
    }
   ],
   "source": [
    "inp1 = float(input())\n",
    "inp2 = float(input())\n",
    "inp3 = float(input())\n",
    "EPSILON = 0.01\n",
    "if (abs(abs(inp1 - inp2) - abs(inp1 - inp3)) <= EPSILON):\n",
    "    print(\"The numbers are effectively equal\")\n",
    "else:\n",
    "    if (abs(inp1 - inp2) < abs(inp1 - inp3)):\n",
    "        print(\"The 2nd number is closer\")\n",
    "    else:\n",
    "        print(\"The 3rd number is closer\")"
   ]
  },
  {
   "cell_type": "code",
   "execution_count": 73,
   "id": "47965ef4-7ad4-45d2-b5f1-f20dd3314e48",
   "metadata": {},
   "outputs": [
    {
     "name": "stdin",
     "output_type": "stream",
     "text": [
      " hello\n"
     ]
    },
    {
     "name": "stdout",
     "output_type": "stream",
     "text": [
      "hello\n"
     ]
    }
   ],
   "source": [
    "inps = input()\n",
    "if (inps[0].isupper()):\n",
    "    print(inps [::-1])\n",
    "else:\n",
    "    print(inps)"
   ]
  },
  {
   "cell_type": "code",
   "execution_count": 77,
   "id": "07644111-ca92-446b-bf62-32c6080aadb2",
   "metadata": {},
   "outputs": [
    {
     "name": "stdin",
     "output_type": "stream",
     "text": [
      " 2daswadwa\n",
      " s\n"
     ]
    },
    {
     "name": "stdout",
     "output_type": "stream",
     "text": [
      "String 1 is longer\n"
     ]
    }
   ],
   "source": [
    "s1 = input()\n",
    "s2 = input()\n",
    "if (len(s1) == len(s2)):\n",
    "    if(s1 > s2):\n",
    "        print(\"String 1 is first in lexographical order\")\n",
    "    elif(s1 < s2):\n",
    "        print(\"String 2 is first in lexographgical order\")\n",
    "    else:\n",
    "        print(\"The strings are equal in lexographical order\")\n",
    "elif (len(s1) > len(s2)):\n",
    "    print(\"String 1 is longer\")\n",
    "else:\n",
    "    print(\"String 2 is longer\")\n",
    "    "
   ]
  },
  {
   "cell_type": "code",
   "execution_count": 86,
   "id": "c54f2a76-f196-407d-86f6-e8e54d6dc061",
   "metadata": {},
   "outputs": [
    {
     "name": "stdin",
     "output_type": "stream",
     "text": [
      " sfawf\n"
     ]
    },
    {
     "name": "stdout",
     "output_type": "stream",
     "text": [
      "Unknown Avenger\n"
     ]
    }
   ],
   "source": [
    "avenger = input()\n",
    "match avenger.lower():\n",
    "    case \"thor\":\n",
    "        print(\"Mjolnir\")\n",
    "    case \"iron man\":\n",
    "        print(\"Suit\")\n",
    "    case \"captain america\":\n",
    "        print(\"Shield\")\n",
    "    case \"hulk\":\n",
    "        print(\"Super Soldier Serum\")\n",
    "    case \"hawkeye\":\n",
    "        print(\"Bow\")\n",
    "    case _:\n",
    "        print(\"Unknown Avenger\")\n",
    "    \n",
    "\n"
   ]
  },
  {
   "cell_type": "code",
   "execution_count": 93,
   "id": "d2f94772-4022-4501-95cc-b70dac52404e",
   "metadata": {},
   "outputs": [
    {
     "name": "stdin",
     "output_type": "stream",
     "text": [
      " hawkEye\n",
      " Bow\n"
     ]
    },
    {
     "name": "stdout",
     "output_type": "stream",
     "text": [
      "Correct Power Source\n"
     ]
    }
   ],
   "source": [
    "aveng = input()\n",
    "power = input().lower()\n",
    "right = 0;\n",
    "match aveng.lower():\n",
    "    case \"thor\":\n",
    "        if (power == \"mjolnir\"):\n",
    "            right = 1\n",
    "    case \"iron man\":\n",
    "        if (power == \"suit\"):\n",
    "            right = 1\n",
    "    case \"captain america\":\n",
    "        if (power == \"shield\"):\n",
    "            right = 1\n",
    "    case \"hulk\":\n",
    "        if (power == \"super soldier serum\"):\n",
    "            right = 1\n",
    "    case \"hawkeye\":\n",
    "        if (power == \"bow\"):\n",
    "            right = 1\n",
    "\n",
    "if (bool(right)):\n",
    "    print(\"Correct Power Source\")\n",
    "else:\n",
    "    print(\"Incorrect Information\")"
   ]
  },
  {
   "cell_type": "code",
   "execution_count": 95,
   "id": "2367df7a-b3c3-4874-b243-623d12196c9c",
   "metadata": {},
   "outputs": [
    {
     "name": "stdin",
     "output_type": "stream",
     "text": [
      " 45\n"
     ]
    },
    {
     "name": "stdout",
     "output_type": "stream",
     "text": [
      "It is 7.22\n"
     ]
    }
   ],
   "source": [
    "inp = input()\n",
    "try:\n",
    "    f = float(inp)\n",
    "    c = (f - 32.0) * 5.0 / 9.0\n",
    "    print(\"It is %.2f\" %c)\n",
    "except:\n",
    "    print(\"Enter a number!\")"
   ]
  }
 ],
 "metadata": {
  "kernelspec": {
   "display_name": "Python 3 (ipykernel)",
   "language": "python",
   "name": "python3"
  },
  "language_info": {
   "codemirror_mode": {
    "name": "ipython",
    "version": 3
   },
   "file_extension": ".py",
   "mimetype": "text/x-python",
   "name": "python",
   "nbconvert_exporter": "python",
   "pygments_lexer": "ipython3",
   "version": "3.12.4"
  }
 },
 "nbformat": 4,
 "nbformat_minor": 5
}
