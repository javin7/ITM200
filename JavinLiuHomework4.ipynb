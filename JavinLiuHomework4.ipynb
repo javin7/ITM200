{
 "cells": [
  {
   "cell_type": "markdown",
   "metadata": {
    "id": "KO2aOsmfGZ6f"
   },
   "source": [
    "# ITM200 Homework 04 - Repetition\n",
    "************************************************************\n",
    "**The filename for your submission: FirstnameLastnameHomework3.ipynb where \"FirstnameLastname\" must be replaced by your name in D2L.**"
   ]
  },
  {
   "cell_type": "markdown",
   "metadata": {
    "id": "Gc0uh285JjeI"
   },
   "source": [
    "## 0. General Information\n",
    "Toronto Metropolitan University<br>\n",
    "ITM200, Fundamentals of Programming, Fall 2024<br>\n",
    "Student: *Javin Liu*<br>\n",
    "Student ID: *501250121*<br>"
   ]
  },
  {
   "cell_type": "markdown",
   "metadata": {
    "id": "Ygw4jMNwJfyI"
   },
   "source": [
    "## 1. Event-Controlled Loops\n",
    "\n",
    "For a savings account with an initial balance of 5,000, consider a monthly deposit of 300 and a fixed monthly interest rate of 2%. How many months are required to reach a target value of 20,000\n",
    "\n",
    "Hint: *We need to set up a while loop where, in each iteration, we add the monthly deposit to the current balance and then apply the monthly interest. The loop continues until the current balance reaches or exceeds the target balance*"
   ]
  },
  {
   "cell_type": "code",
   "execution_count": 44,
   "metadata": {},
   "outputs": [],
   "source": [
    "bal = 5000\n",
    "target = 20000\n",
    "MONTHLY_DEPOSIT = 300\n",
    "INTEREST_RATE = 1.02\n",
    "\n",
    "while (bal < 20000):\n",
    "    bal += MONTHLY_DEPOSIT\n",
    "    bal *= INTEREST_RATE"
   ]
  },
  {
   "cell_type": "markdown",
   "metadata": {
    "id": "vHYlH87_b9fQ"
   },
   "source": [
    "## 2. The 'for' Loop\n",
    "Create a string representing your student number, and write a program that prints each digit individually. First, do this using a for loop, and then repeat the process using a while loop"
   ]
  },
  {
   "cell_type": "code",
   "execution_count": 45,
   "metadata": {},
   "outputs": [
    {
     "name": "stdout",
     "output_type": "stream",
     "text": [
      "5\n",
      "0\n",
      "1\n",
      "2\n",
      "5\n",
      "0\n",
      "1\n",
      "2\n",
      "1\n",
      "5\n",
      "0\n",
      "1\n",
      "2\n",
      "5\n",
      "0\n",
      "1\n",
      "2\n",
      "1\n"
     ]
    }
   ],
   "source": [
    "studentNumber = \"501250121\"\n",
    "#For Loop\n",
    "for x in studentNumber:\n",
    "    print(x)\n",
    "\n",
    "#While Loop\n",
    "i = 0\n",
    "while i < len(studentNumber):\n",
    "    print(studentNumber[i])\n",
    "    i += 1"
   ]
  },
  {
   "cell_type": "markdown",
   "metadata": {
    "id": "vcusa_mUKDIo"
   },
   "source": [
    "## 3. Loop Control\n",
    "Set up a while loop to print numbers from 1 to 20, with two specific conditions:\n",
    "\n",
    "*   It skips the number 12 (doesn't print it)\n",
    "*   It stops executing after printing the number 18 (doesn't print numbers 19 or 20)\n",
    "\n",
    "\n"
   ]
  },
  {
   "cell_type": "code",
   "execution_count": 46,
   "metadata": {},
   "outputs": [
    {
     "name": "stdout",
     "output_type": "stream",
     "text": [
      "1\n",
      "2\n",
      "3\n",
      "4\n",
      "5\n",
      "6\n",
      "7\n",
      "8\n",
      "9\n",
      "10\n",
      "11\n",
      "13\n",
      "14\n",
      "15\n",
      "16\n",
      "17\n",
      "18\n"
     ]
    }
   ],
   "source": [
    "i = 0\n",
    "while (i < 20):\n",
    "    i += 1\n",
    "    if (i == 12):\n",
    "        continue\n",
    "    if (i > 18):\n",
    "        break\n",
    "    print(i)"
   ]
  },
  {
   "cell_type": "markdown",
   "metadata": {
    "id": "FbZinPpxUxBk"
   },
   "source": [
    "## 4. Counting Matches\n",
    "Write a Python program that counts how many times a specific character, provided by the user, appears in a given input string. Use a while loop for iteration."
   ]
  },
  {
   "cell_type": "code",
   "execution_count": 47,
   "metadata": {},
   "outputs": [
    {
     "name": "stdin",
     "output_type": "stream",
     "text": [
      "String: ufeuhswdahsds\n",
      "Character: s\n"
     ]
    },
    {
     "name": "stdout",
     "output_type": "stream",
     "text": [
      "3\n"
     ]
    }
   ],
   "source": [
    "inputString = input(\"String:\")\n",
    "c = input(\"Character:\")\n",
    "b = 0\n",
    "counter = 0\n",
    "while b < len(inputString):\n",
    "    if (inputString[b].lower() == c.lower()):\n",
    "        counter += 1\n",
    "    b += 1\n",
    "print(counter)"
   ]
  },
  {
   "cell_type": "markdown",
   "metadata": {
    "id": "GLhJznifaQy3"
   },
   "source": [
    "## 5. Maximum and Minimum\n",
    "Write a program that finds both the largest and smallest numbers entered by the user. The program should stop accepting inputs when the user enters the word 'stop'. Then calculate the avarage of enetred numbers"
   ]
  },
  {
   "cell_type": "code",
   "execution_count": 48,
   "metadata": {},
   "outputs": [
    {
     "name": "stdin",
     "output_type": "stream",
     "text": [
      " 5\n",
      " 4\n",
      " 3\n",
      " 4\n",
      " 6\n",
      " 10\n",
      " 2\n",
      " 3\n",
      " -3\n",
      " stop\n"
     ]
    },
    {
     "name": "stdout",
     "output_type": "stream",
     "text": [
      "Largest 10\n",
      "Smallest -3\n",
      "Average of all numbers 3.78\n"
     ]
    }
   ],
   "source": [
    "largest = 0\n",
    "smallest = 0\n",
    "total = 0\n",
    "n = 0\n",
    "num = 0\n",
    "\n",
    "while True:\n",
    "    num = input()\n",
    "    if (num.lower() == \"stop\"):\n",
    "        break\n",
    "    num = int(num)\n",
    "    if (largest == 0 and smallest == 0):\n",
    "        largest = num\n",
    "        smallest = num\n",
    "    n += 1\n",
    "    total += num\n",
    "    if num > largest:\n",
    "        largest = num\n",
    "    elif num < smallest:\n",
    "        smallest = num\n",
    "print (\"Largest %d\" % largest)\n",
    "print (\"Smallest %d\" % smallest)\n",
    "\n",
    "avg = float(total) / float (n)\n",
    "print (\"Average of all numbers %.2f\" % avg)"
   ]
  },
  {
   "cell_type": "markdown",
   "metadata": {
    "id": "2hBe7koAbA-3"
   },
   "source": [
    "## 6. Nested Loop\n",
    "\n",
    "\n",
    "#Simplify the code below by using a single for loop, maintaining the functionality of printing the first 10 numbers and their squares.\n",
    "'''\n",
    "i = 1\n",
    "while i <= 10:\n",
    "    for j in [i]:\n",
    "        print(f\"Number: {j}, Square: {j ** 2}\")\n",
    "    i += 1\n",
    "'''"
   ]
  },
  {
   "cell_type": "code",
   "execution_count": 49,
   "metadata": {},
   "outputs": [
    {
     "name": "stdout",
     "output_type": "stream",
     "text": [
      "Number: 1, Square: 1\n",
      "Number: 2, Square: 4\n",
      "Number: 3, Square: 9\n",
      "Number: 4, Square: 16\n",
      "Number: 5, Square: 25\n",
      "Number: 6, Square: 36\n",
      "Number: 7, Square: 49\n",
      "Number: 8, Square: 64\n",
      "Number: 9, Square: 81\n",
      "Number: 10, Square: 100\n"
     ]
    }
   ],
   "source": [
    "for i in range(1,11):\n",
    "    print(f\"Number: {i}, Square: {i ** 2}\")"
   ]
  },
  {
   "cell_type": "markdown",
   "metadata": {
    "id": "qh2ipTNudEQU"
   },
   "source": [
    "## 7. Number Reversal and Digit Multiplication\n",
    "Write a program that, given a number, calculates the product of its digits and also prints the number in reverse order."
   ]
  },
  {
   "cell_type": "code",
   "execution_count": 50,
   "metadata": {},
   "outputs": [
    {
     "name": "stdin",
     "output_type": "stream",
     "text": [
      " 567\n"
     ]
    },
    {
     "name": "stdout",
     "output_type": "stream",
     "text": [
      "Product: 210\n",
      "Reversed: 765\n"
     ]
    }
   ],
   "source": [
    "product = 1\n",
    "numba = input()\n",
    "numba = numba[::-1]\n",
    "for i in numba:\n",
    "    product *= int(i)\n",
    "print(f'Product: {product}')\n",
    "print(f'Reversed: {numba}')"
   ]
  },
  {
   "cell_type": "markdown",
   "metadata": {
    "id": "K6rg1dMVeTNH"
   },
   "source": [
    "## 8. Square Root calculation\n",
    "\n",
    "Estimate the square root of a positive real number using the following equation:\n",
    "\n",
    "$y_{new}=\\frac{1}{2}\\left( y_{old} +\\frac{x}{y_{old}} \\right)$\n",
    "\n",
    "Hint: the epsilon of $10^{-5}$ shall be used."
   ]
  },
  {
   "cell_type": "code",
   "execution_count": 51,
   "metadata": {},
   "outputs": [
    {
     "name": "stdin",
     "output_type": "stream",
     "text": [
      " 25\n"
     ]
    },
    {
     "name": "stdout",
     "output_type": "stream",
     "text": [
      "The square root of 25 is 5.0000\n"
     ]
    }
   ],
   "source": [
    "EPSILON = 0.0001\n",
    "x = int(input())\n",
    "yOld = x / 2\n",
    "while True:\n",
    "    yNew = 0.5 * (yOld + x / yOld)\n",
    "    if abs(yNew - yOld) < EPSILON:\n",
    "        break\n",
    "    yOld = yNew\n",
    "print(f\"The square root of {x} is {yNew:.4f}\")"
   ]
  },
  {
   "cell_type": "markdown",
   "metadata": {
    "id": "7mqI-hipimx3"
   },
   "source": [
    "## 9. Buildiing a new string\n",
    "\n",
    "Out put following diamond with [ ]. Use the for loop to create the following image\n",
    "\n",
    "\n",
    "```\n",
    "        []\n",
    "      [][][]\n",
    "    [][][][][]\n",
    "  [][][][][][][]\n",
    "[][][][][][][][][]\n",
    "  [][][][][][][]\n",
    "    [][][][][]\n",
    "      [][][]\n",
    "        []\n",
    "```\n",
    "\n"
   ]
  },
  {
   "cell_type": "code",
   "execution_count": 52,
   "metadata": {},
   "outputs": [
    {
     "name": "stdout",
     "output_type": "stream",
     "text": [
      "        []\n",
      "      [][][]\n",
      "    [][][][][]\n",
      "  [][][][][][][]\n",
      "[][][][][][][][][]\n",
      "  [][][][][][][]\n",
      "    [][][][][]\n",
      "      [][][]\n",
      "        []\n"
     ]
    }
   ],
   "source": [
    "boxesToMiddle = 5\n",
    "\n",
    "for i in range(boxesToMiddle):\n",
    "    print(\"  \" * (boxesToMiddle - i-1), end = \"\")\n",
    "    print(\"[]\" * (2 * i + 1))\n",
    "\n",
    "for i in range(boxesToMiddle - 2, -1, -1):\n",
    "    print(\"  \" * (boxesToMiddle - i-1), end = \"\")\n",
    "    print(\"[]\" * (2 * i + 1))\n"
   ]
  },
  {
   "cell_type": "markdown",
   "metadata": {
    "id": "AJ61KriCi_Pk"
   },
   "source": [
    "## 10. String Validation\n",
    "In Canada, postal codes are alphanumeric and follow a pattern of alternating letters and numbers (e.g., \"A1B 2C3\"). Write a program that validates whether a given string is a correctly formatted postal code. The correct format should be \"LetterNumberLetter NumberLetterNumber\" (without a space between the third and fourth characters). At least one while loop must be used\n",
    "\n",
    "Hint : you can use **isdigit()** to check whether a character is a number or not. In addition **isalpha()** function can be used to check if a character is letter."
   ]
  },
  {
   "cell_type": "code",
   "execution_count": 53,
   "metadata": {},
   "outputs": [
    {
     "name": "stdin",
     "output_type": "stream",
     "text": [
      " M2K5L6\n"
     ]
    },
    {
     "name": "stdout",
     "output_type": "stream",
     "text": [
      "True\n"
     ]
    }
   ],
   "source": [
    "postalCode = input()\n",
    "#postalCode = postalCode.replace(' ', '')\n",
    "valid = len(postalCode) == 6\n",
    "pos = 0\n",
    "while valid and pos < len(postalCode):\n",
    "    valid = (pos % 2 == 0 and postalCode[pos].isalpha()\n",
    "            or pos % 2 != 0 and postalCode[pos].isdigit()) \n",
    "    pos += 1\n",
    "print(valid)"
   ]
  }
 ],
 "metadata": {
  "colab": {
   "provenance": []
  },
  "kernelspec": {
   "display_name": "Python 3 (ipykernel)",
   "language": "python",
   "name": "python3"
  },
  "language_info": {
   "codemirror_mode": {
    "name": "ipython",
    "version": 3
   },
   "file_extension": ".py",
   "mimetype": "text/x-python",
   "name": "python",
   "nbconvert_exporter": "python",
   "pygments_lexer": "ipython3",
   "version": "3.12.4"
  }
 },
 "nbformat": 4,
 "nbformat_minor": 4
}
