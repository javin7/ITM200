{
 "cells": [
  {
   "cell_type": "markdown",
   "metadata": {
    "id": "SyXldK5GrdRC"
   },
   "source": [
    "# ITM200 Homework 05 - Lists"
   ]
  },
  {
   "cell_type": "markdown",
   "metadata": {},
   "source": [
    "##### Toronto Metropolitan University <br>\r\n",
    "ITM200, Fundamentals of Programming, Fall 2024 <br>\r\n",
    "StudenJavin Liuame here <br>\r\n",
    "Stu501250121t ID here <br>"
   ]
  },
  {
   "cell_type": "markdown",
   "metadata": {
    "id": "iWGygxXcPhBA"
   },
   "source": [
    "## **Question 1** (2 Points)"
   ]
  },
  {
   "cell_type": "markdown",
   "metadata": {
    "id": "CIjnGDRVKk6F"
   },
   "source": [
    "Write a program that takes an array (or list) of integers of size N as input and reverses the order of its elements. The reversal must be performed using either a 'for' loop or a 'while' loop; no built-in reverse functions or slicing methods are allowed. After the reversal is completed, the program should output the modified array.\n",
    "\n",
    "For example, consider the following scenario:\n",
    "\n",
    "**Input Parameters:**\n",
    "\n",
    "N, the size of the array:\n",
    "- N = 4\n",
    "\n",
    "- Input array : [2, 3, 6, 7]\n",
    "\n",
    "**Expected Output:**\n",
    "\n",
    "- Output array: [7, 6, 3, 2]\n",
    "\n",
    "**Key points covered:**\n",
    "\n",
    "This programming task focuses on reversing an array of integers using basic loop constructs ('for' or 'while' loop) without employing built-in reverse functions or slicing methods. It emphasizes array manipulation, understanding loop mechanics, and implementing a custom algorithm for reversing the order of elements."
   ]
  },
  {
   "cell_type": "code",
   "execution_count": 6,
   "metadata": {
    "id": "Fed7JNlvKgiH"
   },
   "outputs": [
    {
     "name": "stdin",
     "output_type": "stream",
     "text": [
      " 4\n",
      " 1\n",
      " 2\n",
      " 3\n",
      " 4\n"
     ]
    },
    {
     "name": "stdout",
     "output_type": "stream",
     "text": [
      "Output array: [4, 3, 2, 1]\n"
     ]
    }
   ],
   "source": [
    "N = int(input())\n",
    "arr = []\n",
    "arr2 = []\n",
    "for i in range(N):\n",
    "    arr.append(input())\n",
    "\n",
    "for b in range(len(arr), 0, -1):\n",
    "    arr2.append(b)\n",
    "\n",
    "print(f'Output array: {arr2}')"
   ]
  },
  {
   "cell_type": "markdown",
   "metadata": {
    "id": "l-23tzbdLuFf"
   },
   "source": [
    "Create a program that accepts an array (or list) of numbers as input. The program should print the\n",
    "1. sum and product of all elements in the list\n",
    "2. Difference between last and first element of list\n",
    "3. Maximum element in the array\n",
    "\n",
    "Use for/while loops only\n",
    "\n",
    "**For instance:**\n",
    "\n",
    "- Input: An array of numbers. Example: [1,2,3,4,5]\n",
    "\n",
    "- Output:\n",
    "1. sum and product of all elementsin the list: 15 and 120\n",
    "2. Difference between last and first element of list: 4\n",
    "3. Maximum element in the array: 5\n",
    "\n",
    "**Key Points Covered:**\n",
    "\n",
    "Key aspects include array manipulation, conditional logic for identifying even numbers (using modulo operations), loop constructs for iterating through the array, and input/output handling to accept and display the modified array. The program highlights basic programming concepts such as variable management, array modifications, and conditional statements.\n",
    "\n"
   ]
  },
  {
   "cell_type": "code",
   "execution_count": 1,
   "metadata": {
    "id": "SCxO9zhTOhJt"
   },
   "outputs": [
    {
     "name": "stdout",
     "output_type": "stream",
     "text": [
      "Please enter the values of the array, Q to quit:\n"
     ]
    },
    {
     "name": "stdin",
     "output_type": "stream",
     "text": [
      " 1\n",
      " 2\n",
      " 3\n",
      " 4\n",
      " 5\n",
      " q\n"
     ]
    },
    {
     "name": "stdout",
     "output_type": "stream",
     "text": [
      "Sum and product of all elements: 15.0 and 120.0\n",
      "Difference between last and first element of list: 4\n",
      "Maximum element in the array: 5\n"
     ]
    }
   ],
   "source": [
    "arrayOfNum = []\n",
    "print(\"Please enter the values of the array, Q to quit:\")\n",
    "while True:\n",
    "    userInput = input()\n",
    "    if userInput.upper() == \"Q\":\n",
    "        break\n",
    "    userInput = int(userInput)\n",
    "    arrayOfNum.append(userInput)\n",
    "\n",
    "sum1 = 0.0\n",
    "product = 1.0\n",
    "difference = abs(arrayOfNum[-1] - arrayOfNum[0])\n",
    "max1 = max(arrayOfNum)\n",
    "for element in arrayOfNum:\n",
    "    sum1 += element\n",
    "    product *= element\n",
    "\n",
    "print(f'Sum and product of all elements: {sum1} and {product}')\n",
    "print(f'Difference between last and first element of list: {difference}')\n",
    "print(f'Maximum element in the array: {max1}')"
   ]
  },
  {
   "cell_type": "markdown",
   "metadata": {
    "id": "tM5MAc8gQmQN"
   },
   "source": [
    "# **Question 2** (1 Point)"
   ]
  },
  {
   "cell_type": "markdown",
   "metadata": {
    "id": "D8vYTFvaPYID"
   },
   "source": [
    "Create a program that takes an array of numbers as input and iterates through this array. The program should separate the numbers into two distinct arrays: one array for even numbers and another array for odd numbers. Once the iteration is complete, the program should output both arrays, clearly indicating which contains the even numbers and which contains the odd numbers.\n",
    "\n",
    " **For example:**\n",
    "\n",
    "- Input: An array of numbers. Example: [5, 12, 7, 9, 20, 13]\n",
    "\n",
    "- The program iterates through each number in the array.\n",
    "If a number is even (divisible by 2 with no remainder), it is added to the 'Even Numbers' array.\n",
    "If a number is odd (not divisible by 2 without a remainder), it is added to the 'Odd Numbers' array.\n",
    "- Output:\n",
    "Two separate arrays:\n",
    "Odd: [12, 20]\n",
    "Even: [5, 7, 9, 13]\n",
    "\n",
    "**Key Points Covered:**\n",
    "\n",
    " Key concepts include array manipulation, conditional logic for number classification, loop constructs for array iteration, and output handling to display the two categorized arrays. This task reinforces basic programming skills like decision-making, array operations, and handling input/output in a programming language."
   ]
  },
  {
   "cell_type": "code",
   "execution_count": 10,
   "metadata": {
    "id": "mbyZsinAPXRH"
   },
   "outputs": [
    {
     "name": "stdout",
     "output_type": "stream",
     "text": [
      "Please enter the values of the array, Q to quit:\n"
     ]
    },
    {
     "name": "stdin",
     "output_type": "stream",
     "text": [
      " 1\n",
      " 2\n",
      " 3\n",
      " 4\n",
      " 5\n",
      " 6\n",
      " 7\n",
      " 8\n",
      " 9\n",
      " 10\n",
      " q\n"
     ]
    },
    {
     "name": "stdout",
     "output_type": "stream",
     "text": [
      "Odd: [1, 3, 5, 7, 9]\n",
      "Even: [2, 4, 6, 8, 10]\n"
     ]
    }
   ],
   "source": [
    "arrayOfNum2 = []\n",
    "evenNumbers = []\n",
    "oddNumbers = []\n",
    "print(\"Please enter the values of the array, Q to quit:\")\n",
    "while True:\n",
    "    inp = input()\n",
    "    if inp.upper() == \"Q\":\n",
    "        break\n",
    "    inp = int(inp)\n",
    "    arrayOfNum2.append(inp)\n",
    "\n",
    "for i in arrayOfNum2:\n",
    "    if i % 2 == 0:\n",
    "        evenNumbers.append(i)\n",
    "    else:\n",
    "        oddNumbers.append(i)\n",
    "\n",
    "print(f'Odd: {oddNumbers}')\n",
    "print(f'Even: {evenNumbers}')"
   ]
  },
  {
   "cell_type": "markdown",
   "metadata": {
    "id": "LTLMMC7tbV65"
   },
   "source": [
    "# **Question 3** (2 Points)"
   ]
  },
  {
   "cell_type": "markdown",
   "metadata": {
    "id": "xtgFxfsXawcH"
   },
   "source": [
    "writing a program that performs a left rotation on an array. A left rotation operation on an array shifts each of the array's elements one unit to the left. The program should take two inputs: an integer *d* representing the number of left rotations to perform, and an array of integers. After performing\n",
    "*d* left rotations on the array, the program should return the resulting array.\n",
    "\n",
    "**Example:**\n",
    "\n",
    "- Input:\n",
    "\n",
    "The number of left rotations\n",
    "*d:* 2\n",
    "\n",
    "- Input array: [1, 2, 3, 4, 5]\n",
    "\n",
    "- Output: [3, 4, 5, 1, 2]\n",
    "\n",
    "**Key concepts covered:**\n",
    "\n",
    "Key concepts include array manipulation, understanding the logic of rotations, loop constructs for implementing the rotations, and handling input/output to accept the rotation count and array, and then output the modified array. This challenge underscores the importance of algorithmic thinking and effective use of data structures in programming"
   ]
  },
  {
   "cell_type": "code",
   "execution_count": 14,
   "metadata": {
    "id": "GscoEqkEbVXS"
   },
   "outputs": [
    {
     "name": "stdin",
     "output_type": "stream",
     "text": [
      " 2\n"
     ]
    },
    {
     "name": "stdout",
     "output_type": "stream",
     "text": [
      "[3, 4, 5, 1, 2]\n"
     ]
    }
   ],
   "source": [
    "numOfRotations = int(input())\n",
    "arr = [1,2,3,4,5]\n",
    "for i in range (0, numOfRotations):\n",
    "    firstNum= arr[0]\n",
    "\n",
    "    for b in range(0, len(arr)-1):\n",
    "        arr[b] = arr[b+1]\n",
    "\n",
    "    arr[len(arr)-1] = firstNum\n",
    "\n",
    "print(arr)"
   ]
  },
  {
   "cell_type": "markdown",
   "metadata": {
    "id": "FoZKrPgJiWJq"
   },
   "source": [
    "# **Question 4** (3 Point)\n",
    "\n",
    "**Key Concepts Covered:**\n",
    "\n",
    "These programming tasks involve different methods of array and list manipulation. The first task calculates proportions of positive, negative, and zero values in an integer array, focusing on array iteration and arithmetic operations. The second task filters a list of names based on the count of vowels, requiring string manipulation and conditional logic. The third task identifies a unique element in an integer array where all other elements appear twice, highlighting the use of efficient data structures or bitwise operations for problem-solving. These tasks collectively emphasize array/list processing, conditional statements, and algorithmic thinking in programming."
   ]
  },
  {
   "cell_type": "markdown",
   "metadata": {
    "id": "--6ZpmbNi4lF"
   },
   "source": [
    "Write a program that analyzes an list of integers and calculates the proportions of positive numbers, negative numbers, and zeros in the array. The program should output three decimal values, each on a separate line, representing the ratio of positive numbers, negative numbers, and zeros in the array, respectively."
   ]
  },
  {
   "cell_type": "code",
   "execution_count": 23,
   "metadata": {
    "id": "At4seD8-kOYI"
   },
   "outputs": [
    {
     "name": "stdout",
     "output_type": "stream",
     "text": [
      "Positive ratio: 0.500\n",
      "Negative ratio: 0.333\n",
      "Zeros ratio: 0.167\n"
     ]
    }
   ],
   "source": [
    "arr = [-2,-1,0,1,2,3]\n",
    "pos = 0\n",
    "neg = 0\n",
    "for i in arr:\n",
    "    if i > 0:\n",
    "        pos += 1\n",
    "    elif i < 0:\n",
    "        neg += 1\n",
    "zeros = len(arr) - pos - neg\n",
    "print(f'Positive ratio: {pos/len(arr):.3f}')\n",
    "print(f'Negative ratio: {neg/len(arr):.3f}')\n",
    "print(f'Zeros ratio: {zeros/len(arr):.3f}')\n"
   ]
  },
  {
   "cell_type": "markdown",
   "metadata": {
    "id": "Zsypv9R6kS0J"
   },
   "source": [
    "Write a program that receives an input consisting of a list of names. The primary function of the program is to examine each name in the list and determine which ones have more than two vowels. Once identified, the program should output these names that meet the specified vowel criterion.\n",
    "\n",
    "**For example:**\n",
    "\n",
    "- Input: names = [\"Alice\", \"Bob\", \"Charlotte\", \"Dave\", \"Eleanor\"]\n",
    "\n",
    "- Output:\n",
    " [\"Alice\", \"Charlotte\", \"Eleanor\"]\n",
    "\n",
    "-  Hint:\n",
    "\n",
    " In Python, the *count()* method is used to count the number of occurrences of a specified element within a list. Here are some notes on how count() works:\n",
    "\n",
    " list = [1,22,3,4,5,6,1,1]\n",
    "\n",
    " c = list.count(1) #counts integer 1 in the list\n",
    "\n",
    " output:\n",
    " 3\n"
   ]
  },
  {
   "cell_type": "code",
   "execution_count": 28,
   "metadata": {
    "id": "GP_6OGVLkST3"
   },
   "outputs": [
    {
     "name": "stdout",
     "output_type": "stream",
     "text": [
      "Please enter the names, 1 to quit:\n"
     ]
    },
    {
     "name": "stdin",
     "output_type": "stream",
     "text": [
      " Alice\n",
      " Bob\n",
      " Charlotte\n",
      " Dave\n",
      " Eleanor\n",
      " 1\n"
     ]
    },
    {
     "name": "stdout",
     "output_type": "stream",
     "text": [
      "['Alice', 'Charlotte', 'Eleanor']\n"
     ]
    }
   ],
   "source": [
    "VOWELS = \"aeiou\"\n",
    "names = []\n",
    "vowelNames = []\n",
    "print(\"Please enter the names, 1 to quit:\")\n",
    "while True:\n",
    "    inp = input()\n",
    "    if inp == \"1\":\n",
    "        break\n",
    "    names.append(inp)\n",
    "\n",
    "#I could use the count() method but I feel like it is less efficient as I have to make use the method 5 times for each vowel\n",
    "\n",
    "for i in names:\n",
    "    counter = 0\n",
    "    for x in range(0, len(i)):\n",
    "        if i[x].lower() in VOWELS:\n",
    "            counter += 1\n",
    "    if counter > 2:\n",
    "        vowelNames.append(i)\n",
    "\n",
    "print(vowelNames)"
   ]
  },
  {
   "cell_type": "markdown",
   "metadata": {
    "id": "L_qU4EYpncav"
   },
   "source": [
    "Write a program that takes an array of integers as input, in which all elements except one appear exactly twice. The objective of the program is to identify and return the unique element that occurs only once in the array.\n",
    "\n",
    " **For Example**\n",
    "\n",
    "- Input: [2,1,5,6,6,1,2]\n",
    "- Output: 5"
   ]
  },
  {
   "cell_type": "code",
   "execution_count": 32,
   "metadata": {
    "id": "ciba_hU9nvAu"
   },
   "outputs": [
    {
     "name": "stdout",
     "output_type": "stream",
     "text": [
      "Please enter the values of the array, Q to quit:\n"
     ]
    },
    {
     "name": "stdin",
     "output_type": "stream",
     "text": [
      " 2\n",
      " 1\n",
      " 5\n",
      " 6\n",
      " 6\n",
      " 1\n",
      " 2\n",
      " q\n"
     ]
    },
    {
     "name": "stdout",
     "output_type": "stream",
     "text": [
      "[5]\n"
     ]
    }
   ],
   "source": [
    "arr1 = []\n",
    "once = []\n",
    "#Get user input\n",
    "print(\"Please enter the values of the array, Q to quit:\")\n",
    "while True:\n",
    "    inp = input()\n",
    "    if inp.upper() == \"Q\":\n",
    "        break\n",
    "    inp = int(inp)\n",
    "    arr1.append(inp)\n",
    "\n",
    "for i in arr1:\n",
    "    if arr1.count(i) == 1:\n",
    "        once.append(i)\n",
    "print(once)"
   ]
  },
  {
   "cell_type": "markdown",
   "metadata": {
    "id": "7XXo8SKdl3M-"
   },
   "source": [
    "# **Question 5**(2 Points)"
   ]
  },
  {
   "cell_type": "markdown",
   "metadata": {
    "id": "B4XHOsEvmhLh"
   },
   "source": [
    "Write a program that takes two inputs: a list of student names and a corresponding list of their final exam percentages. The program should perform the following tasks:\n",
    "\n",
    "1. Calculate the average percentage of all students.\n",
    "2. Identify and print the name of the student with the highest percentage.\n",
    "3. Determine and print the number of students whose percentages are above the average.\n",
    "\n",
    "Assume that the two lists are of the same length, with each index in the names list corresponding to the same index in the percentages list.\n",
    "\n",
    "**Example:**\n",
    "\n",
    "Input:\n",
    "List of student names: [\"Alice\", \"Bob\", \"Charlie\", \"Diana\"]\n",
    "List of final exam percentages: [85, 92, 78, 90]\n",
    "Output:\n",
    "The average percentage: 86.25%\n",
    "The name of the top-scoring student: Bob with 92%\n",
    "The number of students scoring above the average: 2 (Bob and Diana)\n",
    "\n",
    "**Key Points Covered**:\n",
    "\n",
    "Key aspects include array or list manipulation, arithmetic for average calculation, and conditional logic for comparison operations. The program must correlate elements from two parallel arrays — one for student names and the other for their respective percentages — ensuring the indices in both lists match. The output involves displaying the average percentage, the name and score of the highest-scoring student, and the number of students exceeding the average score, demonstrating skills in data correlation, arithmetic operations, and output formatting in programming."
   ]
  },
  {
   "cell_type": "code",
   "execution_count": 3,
   "metadata": {
    "id": "Pp45_Vb3rQZ1"
   },
   "outputs": [
    {
     "name": "stdout",
     "output_type": "stream",
     "text": [
      "Please enter the names, 1 to quit:\n"
     ]
    },
    {
     "name": "stdin",
     "output_type": "stream",
     "text": [
      " Alice\n",
      " Bob\n",
      " Charlie\n",
      " Diana\n",
      " 1\n"
     ]
    },
    {
     "name": "stdout",
     "output_type": "stream",
     "text": [
      "Please enter the percentages:\n"
     ]
    },
    {
     "name": "stdin",
     "output_type": "stream",
     "text": [
      "Alice:  85\n",
      "Bob:  92\n",
      "Charlie:  78\n",
      "Diana:  90\n"
     ]
    },
    {
     "name": "stdout",
     "output_type": "stream",
     "text": [
      "The average score is 86.25%\n",
      "The top student is Bob with a score of 92%\n",
      "The number of students above average is 2 (['Bob', 'Diana'])\n"
     ]
    }
   ],
   "source": [
    "names = []\n",
    "percentages = []\n",
    "aboveAverageNames = []\n",
    "total = 0\n",
    "\n",
    "print(\"Please enter the names, 1 to quit:\")\n",
    "while True:\n",
    "    inp = input()\n",
    "    if inp == \"1\":\n",
    "        break\n",
    "    names.append(inp)\n",
    "\n",
    "print(\"Please enter the percentages:\")\n",
    "for b in range(0,len(names)):\n",
    "    inp = int(input(f'{names[b]}: '))\n",
    "    percentages.append(inp)\n",
    "\n",
    "#Get average\n",
    "averageScore = sum(percentages) / len(percentages)\n",
    "\n",
    "#Get top student\n",
    "maxPercentage = max(percentages)\n",
    "topStudentIndex = percentages.index(maxPercentage)\n",
    "topStudent = names[topStudentIndex]\n",
    "\n",
    "#Get number of students above average\n",
    "for i in percentages:\n",
    "    if i > averageScore:\n",
    "        index = percentages.index(i)\n",
    "        aboveAverageNames.append(names[index])\n",
    "\n",
    "\n",
    "print(f'The average score is {averageScore}%')\n",
    "print(f'The top student is {topStudent} with a score of {maxPercentage}%')\n",
    "print(f'The number of students above average is {len(aboveAverageNames)} ({aboveAverageNames})')"
   ]
  }
 ],
 "metadata": {
  "colab": {
   "provenance": []
  },
  "kernelspec": {
   "display_name": "Python 3 (ipykernel)",
   "language": "python",
   "name": "python3"
  },
  "language_info": {
   "codemirror_mode": {
    "name": "ipython",
    "version": 3
   },
   "file_extension": ".py",
   "mimetype": "text/x-python",
   "name": "python",
   "nbconvert_exporter": "python",
   "pygments_lexer": "ipython3",
   "version": "3.12.4"
  }
 },
 "nbformat": 4,
 "nbformat_minor": 4
}
