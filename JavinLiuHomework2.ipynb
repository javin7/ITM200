{
 "cells": [
  {
   "cell_type": "code",
   "execution_count": 3,
   "id": "c8b06ad0-6e12-42ca-80aa-c0e14a301c77",
   "metadata": {},
   "outputs": [],
   "source": [
    "#Student Name: Javin Liu\n",
    "#Student Number: 501250121"
   ]
  },
  {
   "cell_type": "code",
   "execution_count": 4,
   "id": "a95d1dad-bba0-4428-85f7-377acd99230a",
   "metadata": {},
   "outputs": [
    {
     "name": "stdout",
     "output_type": "stream",
     "text": [
      "10\n",
      "-4\n",
      "21\n",
      "0.42857142857142855\n",
      "0\n",
      "4.4\n",
      "0.6000000000000001\n",
      "4.75\n",
      "1.3157894736842106\n"
     ]
    }
   ],
   "source": [
    "a = 3\n",
    "b = 7\n",
    "print(a + b)\n",
    "print(a - b)\n",
    "print(a * b)\n",
    "print(a / b)\n",
    "print(a // b)\n",
    "\n",
    "c = 2.5\n",
    "d = 1.9\n",
    "print(c + d)\n",
    "print(c - d)\n",
    "print(c * d)\n",
    "print(c / d)\n"
   ]
  },
  {
   "cell_type": "code",
   "execution_count": 5,
   "id": "4806e69e-c3d4-469e-a4fc-764aa8b452f5",
   "metadata": {},
   "outputs": [
    {
     "name": "stdout",
     "output_type": "stream",
     "text": [
      "0.42857142857142855\n",
      "They are not equal\n"
     ]
    }
   ],
   "source": [
    "print(float(a / b))\n",
    "if (c + d) == (c * d):\n",
    "    print('They are equal')\n",
    "else:\n",
    "    print('They are not equal')\n",
    "#The two values are not equal"
   ]
  },
  {
   "cell_type": "code",
   "execution_count": 10,
   "id": "1d244a92-e7ae-48db-8977-c34d2f9bde74",
   "metadata": {},
   "outputs": [
    {
     "name": "stdout",
     "output_type": "stream",
     "text": [
      "3.14\n",
      "9.8\n"
     ]
    }
   ],
   "source": [
    "PI = 3.14\n",
    "GRAVITY = 9.8\n",
    "print(PI)\n",
    "print(GRAVITY)"
   ]
  },
  {
   "cell_type": "code",
   "execution_count": 6,
   "id": "f1e00b1b-dc51-446e-81d7-c05fcea80131",
   "metadata": {},
   "outputs": [
    {
     "name": "stdout",
     "output_type": "stream",
     "text": [
      "3\n",
      "-5\n",
      "4\n",
      "5  Remainder: 2\n"
     ]
    }
   ],
   "source": [
    "print(17 // 5)\n",
    "print(-14 // 3)\n",
    "print(25 % 7)\n",
    "print(42 // 8,' Remainder:', 42 % 8)"
   ]
  },
  {
   "cell_type": "code",
   "execution_count": 7,
   "id": "a7542f42-0c46-459b-a320-41ffd2e9901a",
   "metadata": {},
   "outputs": [
    {
     "name": "stdin",
     "output_type": "stream",
     "text": [
      "Enter var 1:  5\n",
      "Enter var 2:  4\n"
     ]
    },
    {
     "name": "stdout",
     "output_type": "stream",
     "text": [
      "Var 1:  4\n",
      "Var 2:  5\n"
     ]
    }
   ],
   "source": [
    "input1 = input(\"Enter var 1: \")\n",
    "input2 = input(\"Enter var 2: \")\n",
    "input1, input2 = input2, input1\n",
    "print(\"Var 1: \",input1)\n",
    "print(\"Var 2: \",input2)"
   ]
  },
  {
   "cell_type": "code",
   "execution_count": 19,
   "id": "e3ce9b6d-84e6-40ee-8a1e-10d719db820c",
   "metadata": {},
   "outputs": [],
   "source": [
    "string1 = 'hello'\n",
    "string2 = \"hello\"\n",
    "string3 = \"hel 'hi' lo\"\n",
    "string4 = '''Hel \"ho 'hi' la\" lo'''"
   ]
  },
  {
   "cell_type": "code",
   "execution_count": 8,
   "id": "a119207b-33e6-448b-900b-e0989dfa5a57",
   "metadata": {},
   "outputs": [],
   "source": [
    "s1 = 'abcd'\n",
    "s2 = 'efgh'\n",
    "s3 = s1 + s2"
   ]
  },
  {
   "cell_type": "code",
   "execution_count": 9,
   "id": "678d2c34-7878-4a4e-9488-bb89eddbb08d",
   "metadata": {},
   "outputs": [
    {
     "name": "stdout",
     "output_type": "stream",
     "text": [
      "--------------------------------------------------\n"
     ]
    }
   ],
   "source": [
    "bruh = 'abc' * 5\n",
    "print('-' * 50)"
   ]
  },
  {
   "cell_type": "code",
   "execution_count": 12,
   "id": "4e208e85-a444-477a-87cd-446bbcdbf0b6",
   "metadata": {},
   "outputs": [],
   "source": [
    "s4 = \"agwagnsahwaidn\"\n",
    "s4 = s4.upper()"
   ]
  },
  {
   "cell_type": "code",
   "execution_count": 29,
   "id": "1c7177d0-db98-4bd6-bbb6-e2a471a1b5b1",
   "metadata": {},
   "outputs": [
    {
     "name": "stdout",
     "output_type": "stream",
     "text": [
      "Hel\n",
      "lo\n",
      "Hel\\nlo\n"
     ]
    }
   ],
   "source": [
    "print('Hel\\nlo')\n",
    "print(r'Hel\\nlo')"
   ]
  }
 ],
 "metadata": {
  "kernelspec": {
   "display_name": "Python 3 (ipykernel)",
   "language": "python",
   "name": "python3"
  },
  "language_info": {
   "codemirror_mode": {
    "name": "ipython",
    "version": 3
   },
   "file_extension": ".py",
   "mimetype": "text/x-python",
   "name": "python",
   "nbconvert_exporter": "python",
   "pygments_lexer": "ipython3",
   "version": "3.12.4"
  }
 },
 "nbformat": 4,
 "nbformat_minor": 5
}
