{
 "cells": [
  {
   "cell_type": "markdown",
   "metadata": {},
   "source": [
    "# ITM200 Homework 05 - Lists"
   ]
  },
  {
   "cell_type": "markdown",
   "metadata": {},
   "source": [
    "Toronto Metropolitan University <br>\n",
    "ITM200, Fundamentals of Programming, Fall 2024 <br>\n",
    "Student name: Javin Liu <br>\n",
    "Student ID: 501250121 <br>"
   ]
  },
  {
   "cell_type": "markdown",
   "metadata": {
    "id": "3qmIhd24e8Uo"
   },
   "source": [
    "## 1. Built-in functions\n",
    "Create a comprehensive Python script that calculates and displays the following for a given angle (in radians) and a given number:\n",
    "\n",
    "1.   Trigonometric ratios (sine, cosine, tangent) of the angle.\n",
    "2.   Inverse trigonometric ratios (inverse sine, inverse cosine, inverse tangent) of a value derived from the initial trigonometric calculations.\n",
    "3.   Hyperbolic functions (hyperbolic sine, cosine, tangent) of the given number.\n",
    "4.   Natural logarithm, base 10 logarithm, and exponential function values for the given number."
   ]
  },
  {
   "cell_type": "code",
   "execution_count": 24,
   "metadata": {},
   "outputs": [
    {
     "name": "stdin",
     "output_type": "stream",
     "text": [
      "Enter an a number:  5\n"
     ]
    },
    {
     "name": "stdout",
     "output_type": "stream",
     "text": [
      "Sine: 0.08715574274765817\n",
      "Cosine: 0.9961946980917455\n",
      "Tangent: 0.087488663525924\n",
      "\n",
      "Inverse Sine: 0.08726646259971647\n",
      "Inverse Cosine: 0.08726646259971634\n",
      "Inverse Tangent: 0.08726646259971646\n",
      "\n",
      "Hyperbolic Sine: 74.20321057778875\n",
      "Hyperbolic Cosine: 74.20994852478785\n",
      "Hyperbolic Tangent: 0.9999092042625951\n",
      "\n",
      "Natural Logarithm: 1.6094379124341003\n",
      "Base 10 Logarithm: 0.6989700043360187\n",
      "Exponential Function Values: 148.4131591025766\n"
     ]
    }
   ],
   "source": [
    "import math\n",
    "\n",
    "num = float(input(\"Enter an a number: \"))\n",
    "angRad = math.radians(num)\n",
    "\n",
    "valueSin = math.sin(angRad)\n",
    "valueCos = math.cos(angRad)\n",
    "valueTan = math.tan(angRad)\n",
    "\n",
    "#1. Trigonometric ratios (sine, cosine, tangent) of the angle.\n",
    "print(f'Sine: {valueSin}\\nCosine: {valueCos}\\nTangent: {valueTan}\\n')\n",
    "\n",
    "#2. Inverse trigonometric ratios (inverse sine, inverse cosine, inverse tangent) of a value derived from the initial trigonometric calculations.\n",
    "print(f'Inverse Sine: {math.asin(valueSin)}\\nInverse Cosine: {math.acos(valueCos)}\\nInverse Tangent: {math.atan(valueTan)}\\n')\n",
    "\n",
    "#3. Hyperbolic functions (hyperbolic sine, cosine, tangent) of the given number.\n",
    "print(f'Hyperbolic Sine: {math.sinh(num)}\\nHyperbolic Cosine: {math.cosh(num)}\\nHyperbolic Tangent: {math.tanh(num)}\\n')\n",
    "\n",
    "#4. Natural logarithm, base 10 logarithm, and exponential function values for the given number.\n",
    "print(f'Natural Logarithm: {math.log(num)}\\nBase 10 Logarithm: {math.log(num,10)}\\nExponential Function Values: {math.exp(num)}')"
   ]
  },
  {
   "cell_type": "markdown",
   "metadata": {
    "id": "qrwjTyPqg9GE"
   },
   "source": [
    "## 2. Random function\n",
    "Write simple Python script to demonstrate the use of the random function and ensure that it generates the same results every time it is called by using a seed. This script must generate random ineteger numbers between 1 and 100"
   ]
  },
  {
   "cell_type": "code",
   "execution_count": 33,
   "metadata": {},
   "outputs": [
    {
     "name": "stdout",
     "output_type": "stream",
     "text": [
      "27\n"
     ]
    }
   ],
   "source": [
    "import random\n",
    "\n",
    "random.seed(15)\n",
    "#It will generate 27 every time because of the seed\n",
    "print(random.randint(1,100))"
   ]
  },
  {
   "cell_type": "markdown",
   "metadata": {
    "id": "OqPtYJtE9QBk"
   },
   "source": [
    "## 3. Simple use of custom function\n",
    "\n",
    "Define a function that gets a radius and returns the area of a circle"
   ]
  },
  {
   "cell_type": "code",
   "execution_count": 36,
   "metadata": {},
   "outputs": [
    {
     "name": "stdout",
     "output_type": "stream",
     "text": [
      "The area of a circle with the radius of 5 is 78.53981633974483\n"
     ]
    }
   ],
   "source": [
    "def areaOfCircle(radius):\n",
    "    return (math.pi * math.pow(radius,2))\n",
    "\n",
    "print(f'The area of a circle with the radius of 5 is {areaOfCircle(5)}')"
   ]
  },
  {
   "cell_type": "markdown",
   "metadata": {
    "id": "6_9CTBUM-Jq9"
   },
   "source": [
    "## 4. Another example of using a function as a blackbox\n",
    "First, define a function to check whether a number is prime. Then, ask the user for a number and, using the function, print whether the number is prime or no"
   ]
  },
  {
   "cell_type": "code",
   "execution_count": 48,
   "metadata": {},
   "outputs": [
    {
     "name": "stdin",
     "output_type": "stream",
     "text": [
      "Enter a number: 22\n"
     ]
    },
    {
     "name": "stdout",
     "output_type": "stream",
     "text": [
      "It is not prime\n"
     ]
    }
   ],
   "source": [
    "def isPrime(num):\n",
    "    if num <= 1:\n",
    "        return False\n",
    "    for i in range(2, int(math.pow(num,0.5)) + 1):\n",
    "        if num % i == 0:\n",
    "            return False\n",
    "    return True\n",
    "\n",
    "if (isPrime(int(input(\"Enter a number:\")))):\n",
    "    print(\"It is prime\")\n",
    "else:\n",
    "    print(\"It is not prime\")\n"
   ]
  },
  {
   "cell_type": "markdown",
   "metadata": {
    "id": "L7adQSUJHd_c"
   },
   "source": [
    "## 5. Function without return value\n",
    "Write a Python code , which includes a function named shuffle_list that takes a list of fruits name as an argument and shuffles its elements in place. This function utilizes the random module to randomly rearrange the elements within the list.\n",
    "\n",
    "```\n",
    "fruits = [\"Apple\", \"Banana\", \"Cherry\", \"Date\", \"Elderberry\", \"Fig\", \"Grape\"]\n",
    "```\n",
    "\n",
    "\n"
   ]
  },
  {
   "cell_type": "code",
   "execution_count": 59,
   "metadata": {},
   "outputs": [
    {
     "name": "stdout",
     "output_type": "stream",
     "text": [
      "['Banana', 'Fig', 'Elderberry', 'Grape', 'Apple', 'Cherry', 'Date']\n"
     ]
    }
   ],
   "source": [
    "import random\n",
    "\n",
    "def shuffle_list(fruits):\n",
    "    random.shuffle(fruits)\n",
    "    return fruits\n",
    "\n",
    "fruitList = [\"Apple\", \"Banana\", \"Cherry\", \"Date\", \"Elderberry\", \"Fig\", \"Grape\"]\n",
    "\n",
    "print(shuffle_list(fruitList))"
   ]
  },
  {
   "cell_type": "markdown",
   "metadata": {
    "id": "85eQwE7sELdm"
   },
   "source": [
    "## 6. Passing parameters\n",
    "write a program that calculates the future value of an investment. Use the following equation to calculate the compound intrest:\n",
    "\n",
    "$A= P(1+\\frac{r}{n})^{nt}$\n",
    "\n",
    "in this equation:\n",
    "* A is the future value of the investment/loan, including interest\n",
    "* P is the principal investment amount (the initial deposit or loan amount)\n",
    "* r is the annual interest rate (decimal)\n",
    "* n is the number of times that interest is compounded per year\n",
    "* t is the time the money is invested or borrowed for, in years\n",
    "* By using the above equation determine the future value of the investment over a certain period\n",
    "* Use the following values:\n",
    "* P = 1000  # Principal amount\n",
    "* r = 0.05  # Annual interest rate (5%)\n",
    "* n = 12  # Compounded monthly\n",
    "* t = 10  # Time in years"
   ]
  },
  {
   "cell_type": "code",
   "execution_count": 67,
   "metadata": {},
   "outputs": [
    {
     "name": "stdout",
     "output_type": "stream",
     "text": [
      "$1647.01\n"
     ]
    }
   ],
   "source": [
    "def futureValue(P, r, n, t):\n",
    "    return P * ((1 + r/n) ** (n * t))\n",
    "    \n",
    "print(f'${futureValue(1000,0.05,12,10):.2f}')"
   ]
  },
  {
   "cell_type": "markdown",
   "metadata": {
    "id": "cd_6i4q7F8Nv"
   },
   "source": [
    "## 7. Reusable function\n",
    "\n",
    "Use the information provided in Question 6. Now first define a function to calculate the compound interest. This function calculates the compound interest according to the formula. Then define a future value function. This function calls the compound interest function to calculate the future value of an investment given a principal amount, annual interest rate, the number of times the interest is compounded per year, and the time in years."
   ]
  },
  {
   "cell_type": "code",
   "execution_count": 72,
   "metadata": {},
   "outputs": [
    {
     "name": "stdout",
     "output_type": "stream",
     "text": [
      "$1647.01\n"
     ]
    }
   ],
   "source": [
    "P = 1000 # Principal amount\n",
    "r = 0.05 # Annual interest rate (5%)\n",
    "n = 12 # Compounded monthly\n",
    "t = 10 # Time in years\n",
    "\n",
    "def compoundInterest(r, n ,t):\n",
    "    return (1 + r/n) ** (n * t)\n",
    "\n",
    "def futureValue2(p, r, n, t):\n",
    "    return P * compoundInterest(r, n, t)\n",
    "\n",
    "print(f'${futureValue2(P, r, n ,t):.2f}')"
   ]
  },
  {
   "cell_type": "markdown",
   "metadata": {
    "id": "hjcRojHKJeDe"
   },
   "source": [
    "## 8. Recursive function\n",
    "\n",
    "Implementing the Fibonacci sequence is a classic way of showing the recursive function. Write a recursive function to print the 10th Fibonacci number."
   ]
  },
  {
   "cell_type": "code",
   "execution_count": 77,
   "metadata": {},
   "outputs": [
    {
     "name": "stdout",
     "output_type": "stream",
     "text": [
      "55\n"
     ]
    }
   ],
   "source": [
    "def fibonacci(n):\n",
    "    if n <= 1:\n",
    "        return n\n",
    "\n",
    "    return fibonacci(n-1) + fibonacci(n-2)\n",
    "\n",
    "print(fibonacci(10))"
   ]
  },
  {
   "cell_type": "markdown",
   "metadata": {
    "id": "7mqI-hipimx3"
   },
   "source": [
    "## 9. Buildiing a new string\n",
    "\n",
    "Out put following diamond with [ ]. Use the recursive functions\n",
    "\n",
    "Hint: You can get help from the answers to homework #3\n",
    "\n",
    "\n",
    "```\n",
    "        []\n",
    "      [][][]\n",
    "    [][][][][]\n",
    "  [][][][][][][]\n",
    "[][][][][][][][][]\n",
    "  [][][][][][][]\n",
    "    [][][][][]\n",
    "      [][][]\n",
    "        []\n",
    "```\n",
    "\n"
   ]
  },
  {
   "cell_type": "code",
   "execution_count": 2,
   "metadata": {},
   "outputs": [
    {
     "name": "stdout",
     "output_type": "stream",
     "text": [
      "        []\n",
      "      [][][]\n",
      "    [][][][][]\n",
      "  [][][][][][][]\n",
      "[][][][][][][][][]\n",
      "  [][][][][][][]\n",
      "    [][][][][]\n",
      "      [][][]\n",
      "        []\n",
      "          \n"
     ]
    }
   ],
   "source": [
    "def buildTop(x, b=1):\n",
    "    if b > x:\n",
    "        return\n",
    "\n",
    "    print(\"  \" * (x - b), end=\"\")\n",
    "    print(\"[]\" * (2 * b - 1))\n",
    "    buildTop(x, b + 1)\n",
    "\n",
    "def buildBottom(x, b = 1):\n",
    "    if b > x:\n",
    "        return\n",
    "\n",
    "    print(\"  \" * (b), end=\"\")\n",
    "    print(\"[]\" * (2 * (x - b)-1))\n",
    "    buildBottom(x, b+1)\n",
    "\n",
    "def buildDiamond(size):\n",
    "    buildTop(size)\n",
    "    buildBottom(size)\n",
    "\n",
    "buildDiamond(5)"
   ]
  },
  {
   "cell_type": "markdown",
   "metadata": {
    "id": "4MUyEp6bLfw7"
   },
   "source": [
    "## 10. Conclusion for the usage of function in Python\n",
    "Do the following Task:\n",
    "1. **Recursive Function**: Implement the reverse_string function that reverses a string using recursion. The function should: Take a string as input.Return the reversed string as output. Do not use any built-in string methods or slicing to reverse the string. Instead, utilize recursion.\n",
    "2. **Reusable Function**: Implement the is_palindrome function that checks if a string is a palindrome. The function should: Take a string as input. Use the reverse_string function to reverse the string.Compare the original string with the reversed string to determine if it is a palindrome. Return True if the string is a palindrome, False otherwise.\n",
    "\n",
    "Example:\n",
    "\n",
    "```\n",
    "print(reverse_string(\"hello\"))  # Should print \"olleh\"\n",
    "print(is_palindrome(\"madam\"))   # Should print True\n",
    "print(is_palindrome(\"python\"))  # Should print False\n",
    "\n",
    "```\n",
    "Hints:\n",
    "- Remember, a recursive function must have a base case to stop recursion.\n",
    "- Consider how you can reverse a string by combining the last character with the reversed remainder of the string.\n",
    "- When checking for a palindrome, remember to ignore case sensitivity for a more robust solution\n"
   ]
  },
  {
   "cell_type": "code",
   "execution_count": 8,
   "metadata": {},
   "outputs": [
    {
     "name": "stdout",
     "output_type": "stream",
     "text": [
      "olleh\n",
      "True\n",
      "False\n"
     ]
    }
   ],
   "source": [
    "def reverse_string(revStr):\n",
    "    if len(revStr) == 0:\n",
    "        return revStr\n",
    "    else:\n",
    "        return reverse_string(revStr[1:]) + revStr[0]\n",
    "\n",
    "def is_palindrome(palStr):\n",
    "    palStr = palStr.lower()\n",
    "    reversedStr = reverse_string(palStr)\n",
    "    return (palStr == reversedStr)\n",
    "\n",
    "print(reverse_string(\"hello\"))  # Should print \"olleh\"\n",
    "print(is_palindrome(\"madam\"))   # Should print True\n",
    "print(is_palindrome(\"python\"))  # Should print False"
   ]
  }
 ],
 "metadata": {
  "colab": {
   "provenance": []
  },
  "kernelspec": {
   "display_name": "Python 3 (ipykernel)",
   "language": "python",
   "name": "python3"
  },
  "language_info": {
   "codemirror_mode": {
    "name": "ipython",
    "version": 3
   },
   "file_extension": ".py",
   "mimetype": "text/x-python",
   "name": "python",
   "nbconvert_exporter": "python",
   "pygments_lexer": "ipython3",
   "version": "3.12.4"
  }
 },
 "nbformat": 4,
 "nbformat_minor": 4
}
