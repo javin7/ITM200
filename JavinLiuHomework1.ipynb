{
 "cells": [
  {
   "cell_type": "code",
   "execution_count": null,
   "id": "c296c5d4-844b-4c19-8672-e7f602579594",
   "metadata": {},
   "outputs": [],
   "source": [
    "#Student Name: Javin Liu\n",
    "#Student Number: 501250121"
   ]
  },
  {
   "cell_type": "code",
   "execution_count": 1,
   "id": "41b894c9-fb14-4de1-b0e5-f141d44be6f4",
   "metadata": {},
   "outputs": [
    {
     "name": "stdout",
     "output_type": "stream",
     "text": [
      "Hello, Python World!\n"
     ]
    }
   ],
   "source": [
    "print(\"Hello, Python World!\")"
   ]
  },
  {
   "cell_type": "code",
   "execution_count": 2,
   "id": "f3a688dc-03cf-47ff-ae57-429c6660cbca",
   "metadata": {},
   "outputs": [
    {
     "name": "stdout",
     "output_type": "stream",
     "text": [
      "My name is Javin and I like programming.\n",
      "18.0\n",
      "Line 1\n",
      "Line 2\n",
      "Line 3\n",
      "Line 4\n"
     ]
    }
   ],
   "source": [
    "print(\"My name is Javin and I like programming.\")\n",
    "print(13 + 15 / 3)\n",
    "print(\"Line 1\\nLine 2\\nLine 3\\nLine 4\")"
   ]
  }
 ],
 "metadata": {
  "kernelspec": {
   "display_name": "Python 3 (ipykernel)",
   "language": "python",
   "name": "python3"
  },
  "language_info": {
   "codemirror_mode": {
    "name": "ipython",
    "version": 3
   },
   "file_extension": ".py",
   "mimetype": "text/x-python",
   "name": "python",
   "nbconvert_exporter": "python",
   "pygments_lexer": "ipython3",
   "version": "3.12.4"
  }
 },
 "nbformat": 4,
 "nbformat_minor": 5
}
